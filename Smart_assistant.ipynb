{
  "nbformat": 4,
  "nbformat_minor": 0,
  "metadata": {
    "colab": {
      "private_outputs": true,
      "provenance": [],
      "collapsed_sections": []
    },
    "kernelspec": {
      "name": "python3",
      "display_name": "Python 3"
    },
    "language_info": {
      "name": "python"
    }
  },
  "cells": [
    {
      "cell_type": "code",
      "source": [
        "!pip install pyttsx3\n",
        "!pip install SpeechRecognition\n",
        "!pip install wikipedia"
      ],
      "metadata": {
        "id": "2TqSi_B9oTzA"
      },
      "execution_count": null,
      "outputs": []
    },
    {
      "cell_type": "code",
      "source": [
        "!pip3 install pyttsx3\n",
        "!apt-get install alsa-utils\n",
        "import pyttsx3"
      ],
      "metadata": {
        "id": "-tGe4kq4rIoB"
      },
      "execution_count": null,
      "outputs": []
    },
    {
      "cell_type": "code",
      "execution_count": null,
      "metadata": {
        "id": "eYaMwZIeiSfX"
      },
      "outputs": [],
      "source": [
        "import pyttsx3\n",
        "import speech_recognition as sr\n",
        "import datetime\n",
        "import wikipedia\n",
        "import webbrowser\n",
        "import os\n",
        "import sys\n",
        "\n",
        "engine = pyttsx3. init('sapi5')\n",
        "voices = engine.getProperty('voices')\n",
        "# print(voices[1].id)\n",
        "engine.setProperty('voices',voices[1].id)\n",
        "\n",
        "\n",
        "def speak(audio):\n",
        "    engine.say(audio)\n",
        "    engine.runAndWait()\n",
        "def wishme (datetime):\n",
        "    hour = int(datetime.datetime.now().hour)\n",
        "    if hour>0 and hour<12:\n",
        "        speak(\"good morning\")\n",
        "    elif hour>12 and hour<18:\n",
        "        speak(\"good afternoon\")\n",
        "    else:\n",
        "        speak(\"good evening\")\n",
        "\n",
        "    speak(\"hey spidey, cap here please let me know how can i help you\")\n",
        "\n",
        "def takecommand():\n",
        "    # it take a microphone input from user and returns string output\n",
        "    r = sr.Recognizer()\n",
        "    with sr.Microphone() as source:\n",
        "        print(\"listening.....\")\n",
        "        r.pause_threshold = 1\n",
        "        audio = r.listen(source)\n",
        "    try:\n",
        "        print(\"recognizing.....\")\n",
        "        query = r.recognize_google(audio,language=\"en-in\")\n",
        "        print(\"user said:\", query)\n",
        "    except Exception as e:\n",
        "        print(e)\n",
        "        speak(\"hey spidey will u say that again please\")\n",
        "        return \"none\"\n",
        "    return query\n",
        "\n",
        "    if __name__ == '_main_':\n",
        "      # speak(\"afreed is the good neighborhood spiderman\")\n",
        "      wishme(datetime)\n",
        "      # while True:\n",
        "      if 1:\n",
        "          query = takecommand().lower()\n",
        "\n",
        "          if 'wikipedia' in query:\n",
        "              speak(\"searching wikipedia.....please wait for a while\")\n",
        "              query = querry.replace(\"wikipedia\",\"\")\n",
        "              results = wikipedia.summary(query,sentences=2)\n",
        "              speak = (\"according to wikipedia\")\n",
        "              print(results)\n",
        "                # speak(results) ````````\n",
        "          elif 'open google' in query:\n",
        "              webbrowser.open(\"google.com\")\n",
        "\n",
        "          elif 'open notepad' in query:\n",
        "              webbrowser.open(\"google.com\")\n",
        "\n",
        "\n",
        "          elif 'opem command prompt' in query:\n",
        "              os.system('start cmd')\n",
        "\n",
        "\n",
        "          elif 'open stackoverflow' in query:\n",
        "              webbrowser.open(\"stackoverflow.com\")\n",
        "\n",
        "          elif 'open calender' in query:\n",
        "              webbrowser.open(\"calender.com\")\n",
        "\n",
        "          elif ' opencode' in query:\n",
        "              codepath = \"d:\\\\Users\\\\HP\\\\Documents\\\\Afreed Baig\"\n",
        "              os.startfile(codepath)\n",
        "\n",
        "          elif 'time' in query:\n",
        "              strTime = datetime.now().strftime(\"%h:%m:%S\")\n",
        "              speak(f\"kid the time is{strTime}\")\n",
        "\n",
        "          elif 'no thanks' in query:\n",
        "              speak(\"thank u spidey any query dont forget cap is here. stay out of mess\")\n",
        "sys.exit()\n"
      ]
    }
  ]
}